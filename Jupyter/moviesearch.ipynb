{
 "cells": [
  {
   "cell_type": "code",
   "execution_count": 1,
   "metadata": {},
   "outputs": [
    {
     "name": "stderr",
     "output_type": "stream",
     "text": [
      "C:\\Users\\TITAN\\Anaconda3\\envs\\pythondata\\lib\\site-packages\\ipykernel_launcher.py:7: ParserWarning: Falling back to the 'python' engine because the 'c' engine does not support regex separators (separators > 1 char and different from '\\s+' are interpreted as regex); you can avoid this warning by specifying engine='python'.\n",
      "  import sys\n",
      "C:\\Users\\TITAN\\Anaconda3\\envs\\pythondata\\lib\\site-packages\\ipykernel_launcher.py:10: ParserWarning: Falling back to the 'python' engine because the 'c' engine does not support regex separators (separators > 1 char and different from '\\s+' are interpreted as regex); you can avoid this warning by specifying engine='python'.\n",
      "  # Remove the CWD from sys.path while we load stuff.\n",
      "C:\\Users\\TITAN\\Anaconda3\\envs\\pythondata\\lib\\site-packages\\ipykernel_launcher.py:13: ParserWarning: Falling back to the 'python' engine because the 'c' engine does not support regex separators (separators > 1 char and different from '\\s+' are interpreted as regex); you can avoid this warning by specifying engine='python'.\n",
      "  del sys.path[0]\n"
     ]
    }
   ],
   "source": [
    "import pandas as pd\n",
    "import numpy as np\n",
    "import matplotlib.pyplot as plt\n",
    "\n",
    "# Reading ratings file\n",
    "ratings = pd.read_csv('ratings.dat', sep='::', encoding='latin-1', names=['user_id', 'movie_id', 'rating', 'timestamp'])\n",
    "\n",
    "# Reading users file\n",
    "users = pd.read_csv('users.dat', sep = '::', encoding='latin-1', names=['user_id', 'gender', 'age_desc', 'occ_desc', 'zipcode'])\n",
    "\n",
    "# Reading movies file\n",
    "movies = pd.read_csv('movies.dat', sep='::', encoding='latin-1', names=['movie_id', 'title', 'genres'])"
   ]
  },
  {
   "cell_type": "code",
   "execution_count": 2,
   "metadata": {},
   "outputs": [
    {
     "data": {
      "text/html": [
       "<div>\n",
       "<style scoped>\n",
       "    .dataframe tbody tr th:only-of-type {\n",
       "        vertical-align: middle;\n",
       "    }\n",
       "\n",
       "    .dataframe tbody tr th {\n",
       "        vertical-align: top;\n",
       "    }\n",
       "\n",
       "    .dataframe thead th {\n",
       "        text-align: right;\n",
       "    }\n",
       "</style>\n",
       "<table border=\"1\" class=\"dataframe\">\n",
       "  <thead>\n",
       "    <tr style=\"text-align: right;\">\n",
       "      <th></th>\n",
       "      <th>user_id</th>\n",
       "      <th>movie_id</th>\n",
       "      <th>rating</th>\n",
       "      <th>timestamp</th>\n",
       "    </tr>\n",
       "  </thead>\n",
       "  <tbody>\n",
       "    <tr>\n",
       "      <th>0</th>\n",
       "      <td>1</td>\n",
       "      <td>1193</td>\n",
       "      <td>5</td>\n",
       "      <td>978300760</td>\n",
       "    </tr>\n",
       "    <tr>\n",
       "      <th>1</th>\n",
       "      <td>1</td>\n",
       "      <td>661</td>\n",
       "      <td>3</td>\n",
       "      <td>978302109</td>\n",
       "    </tr>\n",
       "    <tr>\n",
       "      <th>2</th>\n",
       "      <td>1</td>\n",
       "      <td>914</td>\n",
       "      <td>3</td>\n",
       "      <td>978301968</td>\n",
       "    </tr>\n",
       "    <tr>\n",
       "      <th>3</th>\n",
       "      <td>1</td>\n",
       "      <td>3408</td>\n",
       "      <td>4</td>\n",
       "      <td>978300275</td>\n",
       "    </tr>\n",
       "    <tr>\n",
       "      <th>4</th>\n",
       "      <td>1</td>\n",
       "      <td>2355</td>\n",
       "      <td>5</td>\n",
       "      <td>978824291</td>\n",
       "    </tr>\n",
       "  </tbody>\n",
       "</table>\n",
       "</div>"
      ],
      "text/plain": [
       "   user_id  movie_id  rating  timestamp\n",
       "0        1      1193       5  978300760\n",
       "1        1       661       3  978302109\n",
       "2        1       914       3  978301968\n",
       "3        1      3408       4  978300275\n",
       "4        1      2355       5  978824291"
      ]
     },
     "execution_count": 2,
     "metadata": {},
     "output_type": "execute_result"
    }
   ],
   "source": [
    "ratings.head()"
   ]
  },
  {
   "cell_type": "code",
   "execution_count": 3,
   "metadata": {},
   "outputs": [
    {
     "data": {
      "text/html": [
       "<div>\n",
       "<style scoped>\n",
       "    .dataframe tbody tr th:only-of-type {\n",
       "        vertical-align: middle;\n",
       "    }\n",
       "\n",
       "    .dataframe tbody tr th {\n",
       "        vertical-align: top;\n",
       "    }\n",
       "\n",
       "    .dataframe thead th {\n",
       "        text-align: right;\n",
       "    }\n",
       "</style>\n",
       "<table border=\"1\" class=\"dataframe\">\n",
       "  <thead>\n",
       "    <tr style=\"text-align: right;\">\n",
       "      <th></th>\n",
       "      <th>user_id</th>\n",
       "      <th>movie_id</th>\n",
       "      <th>rating</th>\n",
       "    </tr>\n",
       "  </thead>\n",
       "  <tbody>\n",
       "    <tr>\n",
       "      <th>0</th>\n",
       "      <td>1</td>\n",
       "      <td>1193</td>\n",
       "      <td>5</td>\n",
       "    </tr>\n",
       "    <tr>\n",
       "      <th>1</th>\n",
       "      <td>1</td>\n",
       "      <td>661</td>\n",
       "      <td>3</td>\n",
       "    </tr>\n",
       "    <tr>\n",
       "      <th>2</th>\n",
       "      <td>1</td>\n",
       "      <td>914</td>\n",
       "      <td>3</td>\n",
       "    </tr>\n",
       "    <tr>\n",
       "      <th>3</th>\n",
       "      <td>1</td>\n",
       "      <td>3408</td>\n",
       "      <td>4</td>\n",
       "    </tr>\n",
       "    <tr>\n",
       "      <th>4</th>\n",
       "      <td>1</td>\n",
       "      <td>2355</td>\n",
       "      <td>5</td>\n",
       "    </tr>\n",
       "  </tbody>\n",
       "</table>\n",
       "</div>"
      ],
      "text/plain": [
       "   user_id  movie_id  rating\n",
       "0        1      1193       5\n",
       "1        1       661       3\n",
       "2        1       914       3\n",
       "3        1      3408       4\n",
       "4        1      2355       5"
      ]
     },
     "execution_count": 3,
     "metadata": {},
     "output_type": "execute_result"
    }
   ],
   "source": [
    "ratings = ratings.drop(['timestamp'], axis=1)\n",
    "ratings.head()"
   ]
  },
  {
   "cell_type": "code",
   "execution_count": 6,
   "metadata": {},
   "outputs": [],
   "source": [
    "# Break up the big genre string into a string array\n",
    "movies['genres'] = movies['genres'].str.split('|')\n",
    "# Convert genres to string value\n",
    "movies['genres'] = movies['genres'].fillna(\"\").astype('str')"
   ]
  },
  {
   "cell_type": "code",
   "execution_count": 7,
   "metadata": {},
   "outputs": [
    {
     "data": {
      "text/plain": [
       "(3883, 127)"
      ]
     },
     "execution_count": 7,
     "metadata": {},
     "output_type": "execute_result"
    }
   ],
   "source": [
    "# VECTORIZE!! Convert the words into vectors\n",
    "from sklearn.feature_extraction.text import TfidfVectorizer\n",
    "tf = TfidfVectorizer(analyzer='word',ngram_range=(1, 2),min_df=0, stop_words='english')\n",
    "tfidf_matrix = tf.fit_transform(movies['genres'])\n",
    "tfidf_matrix.shape"
   ]
  },
  {
   "cell_type": "code",
   "execution_count": 8,
   "metadata": {},
   "outputs": [
    {
     "data": {
      "text/plain": [
       "array([[1.        , 0.14193614, 0.09010857, 0.1056164 ],\n",
       "       [0.14193614, 1.        , 0.        , 0.        ],\n",
       "       [0.09010857, 0.        , 1.        , 0.1719888 ],\n",
       "       [0.1056164 , 0.        , 0.1719888 , 1.        ]])"
      ]
     },
     "execution_count": 8,
     "metadata": {},
     "output_type": "execute_result"
    }
   ],
   "source": [
    "# Conversion for cosine similarity\n",
    "from sklearn.metrics.pairwise import linear_kernel\n",
    "cosine_sim = linear_kernel(tfidf_matrix, tfidf_matrix)\n",
    "cosine_sim[:4, :4]"
   ]
  },
  {
   "cell_type": "code",
   "execution_count": 73,
   "metadata": {},
   "outputs": [],
   "source": [
    "# Build a 1-dimensional array with movie titles\n",
    "titles = movies['title']\n",
    "indices = pd.Series(movies.index, index=movies['title'])\n",
    "\n",
    "# Function that gets movie recommendations based on the cosine similarity score of movie genres\n",
    "def genre_recommendations(title):\n",
    "    idx = indices[title]\n",
    "    sim_scores = list(enumerate(cosine_sim[idx]))\n",
    "    sim_scores = sorted(sim_scores, key=lambda x: x[1], reverse=True)\n",
    "    sim_scores = sim_scores[1:21]\n",
    "    movie_indices = [i[0] for i in sim_scores]\n",
    "    mv = titles.iloc[movie_indices]\n",
    "    return mv\n"
   ]
  },
  {
   "cell_type": "code",
   "execution_count": 492,
   "metadata": {
    "scrolled": true
   },
   "outputs": [
    {
     "data": {
      "text/plain": [
       "31                            Twelve Monkeys (1995)\n",
       "1233                                   8 1/2 (1963)\n",
       "1286      Butch Cassidy and the Sundance Kid (1969)\n",
       "1543                            Wild America (1997)\n",
       "2048    Indiana Jones and the Temple of Doom (1984)\n",
       "3011                         Liberty Heights (1999)\n",
       "3224                                   Trois (2000)\n",
       "3402                        Inherit the Wind (1960)\n",
       "3434                        Murphy's Romance (1985)\n",
       "3631                        Running Man, The (1987)\n",
       "3087                        Blood on the Sun (1945)\n",
       "1607                 Telling Lies in America (1997)\n",
       "2603                    Run Silent, Run Deep (1958)\n",
       "3689                        Golden Bowl, The (2000)\n",
       "1375                         Raising Arizona (1987)\n",
       "3632                                 Starman (1984)\n",
       "1807                         Still Breathing (1997)\n",
       "673                               Alphaville (1965)\n",
       "1181                     Princess Bride, The (1987)\n",
       "1188                      Lawrence of Arabia (1962)\n",
       "Name: title, dtype: object"
      ]
     },
     "execution_count": 492,
     "metadata": {},
     "output_type": "execute_result"
    }
   ],
   "source": [
    "# let's test it!\n",
    "genre_recommendations('Indiana Jones and the Temple of Doom (1984)').head(20)"
   ]
  },
  {
   "cell_type": "code",
   "execution_count": 16,
   "metadata": {},
   "outputs": [
    {
     "name": "stderr",
     "output_type": "stream",
     "text": [
      "C:\\Users\\TITAN\\Anaconda3\\envs\\pythondata\\lib\\site-packages\\IPython\\core\\interactiveshell.py:2785: DtypeWarning: Columns (10) have mixed types. Specify dtype option on import or set low_memory=False.\n",
      "  interactivity=interactivity, compiler=compiler, result=result)\n"
     ]
    },
    {
     "data": {
      "text/html": [
       "<div>\n",
       "<style scoped>\n",
       "    .dataframe tbody tr th:only-of-type {\n",
       "        vertical-align: middle;\n",
       "    }\n",
       "\n",
       "    .dataframe tbody tr th {\n",
       "        vertical-align: top;\n",
       "    }\n",
       "\n",
       "    .dataframe thead th {\n",
       "        text-align: right;\n",
       "    }\n",
       "</style>\n",
       "<table border=\"1\" class=\"dataframe\">\n",
       "  <thead>\n",
       "    <tr style=\"text-align: right;\">\n",
       "      <th></th>\n",
       "      <th>adult</th>\n",
       "      <th>belongs_to_collection</th>\n",
       "      <th>budget</th>\n",
       "      <th>genres</th>\n",
       "      <th>homepage</th>\n",
       "      <th>id</th>\n",
       "      <th>imdb_id</th>\n",
       "      <th>original_language</th>\n",
       "      <th>original_title</th>\n",
       "      <th>overview</th>\n",
       "      <th>...</th>\n",
       "      <th>release_date</th>\n",
       "      <th>revenue</th>\n",
       "      <th>runtime</th>\n",
       "      <th>spoken_languages</th>\n",
       "      <th>status</th>\n",
       "      <th>tagline</th>\n",
       "      <th>title</th>\n",
       "      <th>video</th>\n",
       "      <th>vote_average</th>\n",
       "      <th>vote_count</th>\n",
       "    </tr>\n",
       "  </thead>\n",
       "  <tbody>\n",
       "    <tr>\n",
       "      <th>0</th>\n",
       "      <td>False</td>\n",
       "      <td>{'id': 10194, 'name': 'Toy Story Collection', ...</td>\n",
       "      <td>30000000</td>\n",
       "      <td>[{'id': 16, 'name': 'Animation'}, {'id': 35, '...</td>\n",
       "      <td>http://toystory.disney.com/toy-story</td>\n",
       "      <td>862</td>\n",
       "      <td>tt0114709</td>\n",
       "      <td>en</td>\n",
       "      <td>Toy Story</td>\n",
       "      <td>Led by Woody, Andy's toys live happily in his ...</td>\n",
       "      <td>...</td>\n",
       "      <td>1995-10-30</td>\n",
       "      <td>373554033.0</td>\n",
       "      <td>81.0</td>\n",
       "      <td>[{'iso_639_1': 'en', 'name': 'English'}]</td>\n",
       "      <td>Released</td>\n",
       "      <td>NaN</td>\n",
       "      <td>Toy Story</td>\n",
       "      <td>False</td>\n",
       "      <td>7.7</td>\n",
       "      <td>5415.0</td>\n",
       "    </tr>\n",
       "    <tr>\n",
       "      <th>1</th>\n",
       "      <td>False</td>\n",
       "      <td>NaN</td>\n",
       "      <td>65000000</td>\n",
       "      <td>[{'id': 12, 'name': 'Adventure'}, {'id': 14, '...</td>\n",
       "      <td>NaN</td>\n",
       "      <td>8844</td>\n",
       "      <td>tt0113497</td>\n",
       "      <td>en</td>\n",
       "      <td>Jumanji</td>\n",
       "      <td>When siblings Judy and Peter discover an encha...</td>\n",
       "      <td>...</td>\n",
       "      <td>1995-12-15</td>\n",
       "      <td>262797249.0</td>\n",
       "      <td>104.0</td>\n",
       "      <td>[{'iso_639_1': 'en', 'name': 'English'}, {'iso...</td>\n",
       "      <td>Released</td>\n",
       "      <td>Roll the dice and unleash the excitement!</td>\n",
       "      <td>Jumanji</td>\n",
       "      <td>False</td>\n",
       "      <td>6.9</td>\n",
       "      <td>2413.0</td>\n",
       "    </tr>\n",
       "  </tbody>\n",
       "</table>\n",
       "<p>2 rows × 24 columns</p>\n",
       "</div>"
      ],
      "text/plain": [
       "   adult                              belongs_to_collection    budget  \\\n",
       "0  False  {'id': 10194, 'name': 'Toy Story Collection', ...  30000000   \n",
       "1  False                                                NaN  65000000   \n",
       "\n",
       "                                              genres  \\\n",
       "0  [{'id': 16, 'name': 'Animation'}, {'id': 35, '...   \n",
       "1  [{'id': 12, 'name': 'Adventure'}, {'id': 14, '...   \n",
       "\n",
       "                               homepage    id    imdb_id original_language  \\\n",
       "0  http://toystory.disney.com/toy-story   862  tt0114709                en   \n",
       "1                                   NaN  8844  tt0113497                en   \n",
       "\n",
       "  original_title                                           overview  \\\n",
       "0      Toy Story  Led by Woody, Andy's toys live happily in his ...   \n",
       "1        Jumanji  When siblings Judy and Peter discover an encha...   \n",
       "\n",
       "     ...     release_date      revenue runtime  \\\n",
       "0    ...       1995-10-30  373554033.0    81.0   \n",
       "1    ...       1995-12-15  262797249.0   104.0   \n",
       "\n",
       "                                    spoken_languages    status  \\\n",
       "0           [{'iso_639_1': 'en', 'name': 'English'}]  Released   \n",
       "1  [{'iso_639_1': 'en', 'name': 'English'}, {'iso...  Released   \n",
       "\n",
       "                                     tagline      title  video vote_average  \\\n",
       "0                                        NaN  Toy Story  False          7.7   \n",
       "1  Roll the dice and unleash the excitement!    Jumanji  False          6.9   \n",
       "\n",
       "  vote_count  \n",
       "0     5415.0  \n",
       "1     2413.0  \n",
       "\n",
       "[2 rows x 24 columns]"
      ]
     },
     "execution_count": 16,
     "metadata": {},
     "output_type": "execute_result"
    }
   ],
   "source": [
    "# Let's make things look nice, shall we?\n",
    "metadata = pd.read_csv('data/movies_metadata.csv')\n",
    "metadata.head(2)"
   ]
  },
  {
   "cell_type": "code",
   "execution_count": 17,
   "metadata": {},
   "outputs": [
    {
     "data": {
      "text/html": [
       "<div>\n",
       "<style scoped>\n",
       "    .dataframe tbody tr th:only-of-type {\n",
       "        vertical-align: middle;\n",
       "    }\n",
       "\n",
       "    .dataframe tbody tr th {\n",
       "        vertical-align: top;\n",
       "    }\n",
       "\n",
       "    .dataframe thead th {\n",
       "        text-align: right;\n",
       "    }\n",
       "</style>\n",
       "<table border=\"1\" class=\"dataframe\">\n",
       "  <thead>\n",
       "    <tr style=\"text-align: right;\">\n",
       "      <th></th>\n",
       "      <th>imdb_id</th>\n",
       "      <th>poster_path</th>\n",
       "    </tr>\n",
       "  </thead>\n",
       "  <tbody>\n",
       "    <tr>\n",
       "      <th>0</th>\n",
       "      <td>tt0114709</td>\n",
       "      <td>/rhIRbceoE9lR4veEXuwCC2wARtG.jpg</td>\n",
       "    </tr>\n",
       "    <tr>\n",
       "      <th>1</th>\n",
       "      <td>tt0113497</td>\n",
       "      <td>/vzmL6fP7aPKNKPRTFnZmiUfciyV.jpg</td>\n",
       "    </tr>\n",
       "    <tr>\n",
       "      <th>2</th>\n",
       "      <td>tt0113228</td>\n",
       "      <td>/6ksm1sjKMFLbO7UY2i6G1ju9SML.jpg</td>\n",
       "    </tr>\n",
       "    <tr>\n",
       "      <th>3</th>\n",
       "      <td>tt0114885</td>\n",
       "      <td>/16XOMpEaLWkrcPqSQqhTmeJuqQl.jpg</td>\n",
       "    </tr>\n",
       "    <tr>\n",
       "      <th>4</th>\n",
       "      <td>tt0113041</td>\n",
       "      <td>/e64sOI48hQXyru7naBFyssKFxVd.jpg</td>\n",
       "    </tr>\n",
       "  </tbody>\n",
       "</table>\n",
       "</div>"
      ],
      "text/plain": [
       "     imdb_id                       poster_path\n",
       "0  tt0114709  /rhIRbceoE9lR4veEXuwCC2wARtG.jpg\n",
       "1  tt0113497  /vzmL6fP7aPKNKPRTFnZmiUfciyV.jpg\n",
       "2  tt0113228  /6ksm1sjKMFLbO7UY2i6G1ju9SML.jpg\n",
       "3  tt0114885  /16XOMpEaLWkrcPqSQqhTmeJuqQl.jpg\n",
       "4  tt0113041  /e64sOI48hQXyru7naBFyssKFxVd.jpg"
      ]
     },
     "execution_count": 17,
     "metadata": {},
     "output_type": "execute_result"
    }
   ],
   "source": [
    "image_data = metadata[['imdb_id', 'poster_path']]\n",
    "image_data.head()"
   ]
  },
  {
   "cell_type": "code",
   "execution_count": 18,
   "metadata": {},
   "outputs": [
    {
     "data": {
      "text/html": [
       "<div>\n",
       "<style scoped>\n",
       "    .dataframe tbody tr th:only-of-type {\n",
       "        vertical-align: middle;\n",
       "    }\n",
       "\n",
       "    .dataframe tbody tr th {\n",
       "        vertical-align: top;\n",
       "    }\n",
       "\n",
       "    .dataframe thead th {\n",
       "        text-align: right;\n",
       "    }\n",
       "</style>\n",
       "<table border=\"1\" class=\"dataframe\">\n",
       "  <thead>\n",
       "    <tr style=\"text-align: right;\">\n",
       "      <th></th>\n",
       "      <th>movieId</th>\n",
       "      <th>imdbId</th>\n",
       "      <th>tmdbId</th>\n",
       "    </tr>\n",
       "  </thead>\n",
       "  <tbody>\n",
       "    <tr>\n",
       "      <th>0</th>\n",
       "      <td>1</td>\n",
       "      <td>114709</td>\n",
       "      <td>862.0</td>\n",
       "    </tr>\n",
       "    <tr>\n",
       "      <th>1</th>\n",
       "      <td>2</td>\n",
       "      <td>113497</td>\n",
       "      <td>8844.0</td>\n",
       "    </tr>\n",
       "    <tr>\n",
       "      <th>2</th>\n",
       "      <td>3</td>\n",
       "      <td>113228</td>\n",
       "      <td>15602.0</td>\n",
       "    </tr>\n",
       "    <tr>\n",
       "      <th>3</th>\n",
       "      <td>4</td>\n",
       "      <td>114885</td>\n",
       "      <td>31357.0</td>\n",
       "    </tr>\n",
       "    <tr>\n",
       "      <th>4</th>\n",
       "      <td>5</td>\n",
       "      <td>113041</td>\n",
       "      <td>11862.0</td>\n",
       "    </tr>\n",
       "  </tbody>\n",
       "</table>\n",
       "</div>"
      ],
      "text/plain": [
       "   movieId  imdbId   tmdbId\n",
       "0        1  114709    862.0\n",
       "1        2  113497   8844.0\n",
       "2        3  113228  15602.0\n",
       "3        4  114885  31357.0\n",
       "4        5  113041  11862.0"
      ]
     },
     "execution_count": 18,
     "metadata": {},
     "output_type": "execute_result"
    }
   ],
   "source": [
    "links = pd.read_csv(\"data/links.csv\")\n",
    "links.head()"
   ]
  },
  {
   "cell_type": "code",
   "execution_count": 19,
   "metadata": {},
   "outputs": [],
   "source": [
    "links = links[['movieId', 'imdbId']]"
   ]
  },
  {
   "cell_type": "code",
   "execution_count": 20,
   "metadata": {},
   "outputs": [],
   "source": [
    "image_data = image_data[~ image_data.imdb_id.isnull()]"
   ]
  },
  {
   "cell_type": "code",
   "execution_count": 21,
   "metadata": {},
   "outputs": [],
   "source": [
    "def app(x):\n",
    "    try:\n",
    "        return int(x[2:])\n",
    "    except ValueError:\n",
    "        print(x)"
   ]
  },
  {
   "cell_type": "code",
   "execution_count": 22,
   "metadata": {},
   "outputs": [
    {
     "name": "stdout",
     "output_type": "stream",
     "text": [
      "0\n",
      "0\n",
      "0\n"
     ]
    },
    {
     "data": {
      "text/html": [
       "<div>\n",
       "<style scoped>\n",
       "    .dataframe tbody tr th:only-of-type {\n",
       "        vertical-align: middle;\n",
       "    }\n",
       "\n",
       "    .dataframe tbody tr th {\n",
       "        vertical-align: top;\n",
       "    }\n",
       "\n",
       "    .dataframe thead th {\n",
       "        text-align: right;\n",
       "    }\n",
       "</style>\n",
       "<table border=\"1\" class=\"dataframe\">\n",
       "  <thead>\n",
       "    <tr style=\"text-align: right;\">\n",
       "      <th></th>\n",
       "      <th>imdbId</th>\n",
       "      <th>poster_path</th>\n",
       "    </tr>\n",
       "  </thead>\n",
       "  <tbody>\n",
       "    <tr>\n",
       "      <th>0</th>\n",
       "      <td>114709</td>\n",
       "      <td>/rhIRbceoE9lR4veEXuwCC2wARtG.jpg</td>\n",
       "    </tr>\n",
       "    <tr>\n",
       "      <th>1</th>\n",
       "      <td>113497</td>\n",
       "      <td>/vzmL6fP7aPKNKPRTFnZmiUfciyV.jpg</td>\n",
       "    </tr>\n",
       "    <tr>\n",
       "      <th>2</th>\n",
       "      <td>113228</td>\n",
       "      <td>/6ksm1sjKMFLbO7UY2i6G1ju9SML.jpg</td>\n",
       "    </tr>\n",
       "    <tr>\n",
       "      <th>3</th>\n",
       "      <td>114885</td>\n",
       "      <td>/16XOMpEaLWkrcPqSQqhTmeJuqQl.jpg</td>\n",
       "    </tr>\n",
       "    <tr>\n",
       "      <th>4</th>\n",
       "      <td>113041</td>\n",
       "      <td>/e64sOI48hQXyru7naBFyssKFxVd.jpg</td>\n",
       "    </tr>\n",
       "  </tbody>\n",
       "</table>\n",
       "</div>"
      ],
      "text/plain": [
       "   imdbId                       poster_path\n",
       "0  114709  /rhIRbceoE9lR4veEXuwCC2wARtG.jpg\n",
       "1  113497  /vzmL6fP7aPKNKPRTFnZmiUfciyV.jpg\n",
       "2  113228  /6ksm1sjKMFLbO7UY2i6G1ju9SML.jpg\n",
       "3  114885  /16XOMpEaLWkrcPqSQqhTmeJuqQl.jpg\n",
       "4  113041  /e64sOI48hQXyru7naBFyssKFxVd.jpg"
      ]
     },
     "execution_count": 22,
     "metadata": {},
     "output_type": "execute_result"
    }
   ],
   "source": [
    "# Clean and format image data\n",
    "image_data['imdbId'] = image_data.imdb_id.apply(app)\n",
    "image_data = image_data[~ image_data.imdbId.isnull()]\n",
    "image_data.imdbId = image_data.imdbId.astype(int)\n",
    "image_data = image_data[['imdbId', 'poster_path']]"
   ]
  },
  {
   "cell_type": "code",
   "execution_count": 23,
   "metadata": {},
   "outputs": [
    {
     "data": {
      "text/html": [
       "<div>\n",
       "<style scoped>\n",
       "    .dataframe tbody tr th:only-of-type {\n",
       "        vertical-align: middle;\n",
       "    }\n",
       "\n",
       "    .dataframe tbody tr th {\n",
       "        vertical-align: top;\n",
       "    }\n",
       "\n",
       "    .dataframe thead th {\n",
       "        text-align: right;\n",
       "    }\n",
       "</style>\n",
       "<table border=\"1\" class=\"dataframe\">\n",
       "  <thead>\n",
       "    <tr style=\"text-align: right;\">\n",
       "      <th></th>\n",
       "      <th>imdbId</th>\n",
       "      <th>poster_path</th>\n",
       "      <th>movieId</th>\n",
       "      <th>movie_id</th>\n",
       "    </tr>\n",
       "  </thead>\n",
       "  <tbody>\n",
       "    <tr>\n",
       "      <th>0</th>\n",
       "      <td>114709</td>\n",
       "      <td>/rhIRbceoE9lR4veEXuwCC2wARtG.jpg</td>\n",
       "      <td>1</td>\n",
       "      <td>1.0</td>\n",
       "    </tr>\n",
       "    <tr>\n",
       "      <th>1</th>\n",
       "      <td>113497</td>\n",
       "      <td>/vzmL6fP7aPKNKPRTFnZmiUfciyV.jpg</td>\n",
       "      <td>2</td>\n",
       "      <td>2.0</td>\n",
       "    </tr>\n",
       "    <tr>\n",
       "      <th>2</th>\n",
       "      <td>113228</td>\n",
       "      <td>/6ksm1sjKMFLbO7UY2i6G1ju9SML.jpg</td>\n",
       "      <td>3</td>\n",
       "      <td>3.0</td>\n",
       "    </tr>\n",
       "    <tr>\n",
       "      <th>3</th>\n",
       "      <td>114885</td>\n",
       "      <td>/16XOMpEaLWkrcPqSQqhTmeJuqQl.jpg</td>\n",
       "      <td>4</td>\n",
       "      <td>4.0</td>\n",
       "    </tr>\n",
       "    <tr>\n",
       "      <th>4</th>\n",
       "      <td>113041</td>\n",
       "      <td>/e64sOI48hQXyru7naBFyssKFxVd.jpg</td>\n",
       "      <td>5</td>\n",
       "      <td>5.0</td>\n",
       "    </tr>\n",
       "  </tbody>\n",
       "</table>\n",
       "</div>"
      ],
      "text/plain": [
       "   imdbId                       poster_path  movieId  movie_id\n",
       "0  114709  /rhIRbceoE9lR4veEXuwCC2wARtG.jpg        1       1.0\n",
       "1  113497  /vzmL6fP7aPKNKPRTFnZmiUfciyV.jpg        2       2.0\n",
       "2  113228  /6ksm1sjKMFLbO7UY2i6G1ju9SML.jpg        3       3.0\n",
       "3  114885  /16XOMpEaLWkrcPqSQqhTmeJuqQl.jpg        4       4.0\n",
       "4  113041  /e64sOI48hQXyru7naBFyssKFxVd.jpg        5       5.0"
      ]
     },
     "execution_count": 23,
     "metadata": {},
     "output_type": "execute_result"
    }
   ],
   "source": [
    "# Merge data on the imdbId\n",
    "posters = pd.merge(image_data, links, on='imdbId', how='left')\n",
    "posters[['movie_id', 'poster_path']] = posters[['movieId', 'poster_path']]\n",
    "posters = posters[~ posters.movieId.isnull()]\n",
    "posters.movieId = posters.movieId.astype(int)\n",
    "posters.head()"
   ]
  },
  {
   "cell_type": "code",
   "execution_count": 24,
   "metadata": {},
   "outputs": [
    {
     "data": {
      "text/html": [
       "<div>\n",
       "<style scoped>\n",
       "    .dataframe tbody tr th:only-of-type {\n",
       "        vertical-align: middle;\n",
       "    }\n",
       "\n",
       "    .dataframe tbody tr th {\n",
       "        vertical-align: top;\n",
       "    }\n",
       "\n",
       "    .dataframe thead th {\n",
       "        text-align: right;\n",
       "    }\n",
       "</style>\n",
       "<table border=\"1\" class=\"dataframe\">\n",
       "  <thead>\n",
       "    <tr style=\"text-align: right;\">\n",
       "      <th></th>\n",
       "      <th>movie_id</th>\n",
       "      <th>title</th>\n",
       "      <th>genres</th>\n",
       "      <th>imdbId</th>\n",
       "      <th>poster_path</th>\n",
       "      <th>movieId</th>\n",
       "    </tr>\n",
       "  </thead>\n",
       "  <tbody>\n",
       "    <tr>\n",
       "      <th>0</th>\n",
       "      <td>1</td>\n",
       "      <td>Toy Story (1995)</td>\n",
       "      <td>['Animation', \"Children's\", 'Comedy']</td>\n",
       "      <td>114709.0</td>\n",
       "      <td>/rhIRbceoE9lR4veEXuwCC2wARtG.jpg</td>\n",
       "      <td>1.0</td>\n",
       "    </tr>\n",
       "    <tr>\n",
       "      <th>1</th>\n",
       "      <td>2</td>\n",
       "      <td>Jumanji (1995)</td>\n",
       "      <td>['Adventure', \"Children's\", 'Fantasy']</td>\n",
       "      <td>113497.0</td>\n",
       "      <td>/vzmL6fP7aPKNKPRTFnZmiUfciyV.jpg</td>\n",
       "      <td>2.0</td>\n",
       "    </tr>\n",
       "    <tr>\n",
       "      <th>2</th>\n",
       "      <td>3</td>\n",
       "      <td>Grumpier Old Men (1995)</td>\n",
       "      <td>['Comedy', 'Romance']</td>\n",
       "      <td>113228.0</td>\n",
       "      <td>/6ksm1sjKMFLbO7UY2i6G1ju9SML.jpg</td>\n",
       "      <td>3.0</td>\n",
       "    </tr>\n",
       "    <tr>\n",
       "      <th>3</th>\n",
       "      <td>4</td>\n",
       "      <td>Waiting to Exhale (1995)</td>\n",
       "      <td>['Comedy', 'Drama']</td>\n",
       "      <td>114885.0</td>\n",
       "      <td>/16XOMpEaLWkrcPqSQqhTmeJuqQl.jpg</td>\n",
       "      <td>4.0</td>\n",
       "    </tr>\n",
       "    <tr>\n",
       "      <th>4</th>\n",
       "      <td>5</td>\n",
       "      <td>Father of the Bride Part II (1995)</td>\n",
       "      <td>['Comedy']</td>\n",
       "      <td>113041.0</td>\n",
       "      <td>/e64sOI48hQXyru7naBFyssKFxVd.jpg</td>\n",
       "      <td>5.0</td>\n",
       "    </tr>\n",
       "  </tbody>\n",
       "</table>\n",
       "</div>"
      ],
      "text/plain": [
       "   movie_id                               title  \\\n",
       "0         1                    Toy Story (1995)   \n",
       "1         2                      Jumanji (1995)   \n",
       "2         3             Grumpier Old Men (1995)   \n",
       "3         4            Waiting to Exhale (1995)   \n",
       "4         5  Father of the Bride Part II (1995)   \n",
       "\n",
       "                                   genres    imdbId  \\\n",
       "0   ['Animation', \"Children's\", 'Comedy']  114709.0   \n",
       "1  ['Adventure', \"Children's\", 'Fantasy']  113497.0   \n",
       "2                   ['Comedy', 'Romance']  113228.0   \n",
       "3                     ['Comedy', 'Drama']  114885.0   \n",
       "4                              ['Comedy']  113041.0   \n",
       "\n",
       "                        poster_path  movieId  \n",
       "0  /rhIRbceoE9lR4veEXuwCC2wARtG.jpg      1.0  \n",
       "1  /vzmL6fP7aPKNKPRTFnZmiUfciyV.jpg      2.0  \n",
       "2  /6ksm1sjKMFLbO7UY2i6G1ju9SML.jpg      3.0  \n",
       "3  /16XOMpEaLWkrcPqSQqhTmeJuqQl.jpg      4.0  \n",
       "4  /e64sOI48hQXyru7naBFyssKFxVd.jpg      5.0  "
      ]
     },
     "execution_count": 24,
     "metadata": {},
     "output_type": "execute_result"
    }
   ],
   "source": [
    "# Append the data to the movies df\n",
    "movies = pd.merge(movies, posters, on='movie_id', how='left')\n",
    "movies.head()"
   ]
  },
  {
   "cell_type": "code",
   "execution_count": 25,
   "metadata": {},
   "outputs": [
    {
     "data": {
      "text/html": [
       "<div>\n",
       "<style scoped>\n",
       "    .dataframe tbody tr th:only-of-type {\n",
       "        vertical-align: middle;\n",
       "    }\n",
       "\n",
       "    .dataframe tbody tr th {\n",
       "        vertical-align: top;\n",
       "    }\n",
       "\n",
       "    .dataframe thead th {\n",
       "        text-align: right;\n",
       "    }\n",
       "</style>\n",
       "<table border=\"1\" class=\"dataframe\">\n",
       "  <thead>\n",
       "    <tr style=\"text-align: right;\">\n",
       "      <th></th>\n",
       "      <th>movie_id</th>\n",
       "      <th>title</th>\n",
       "      <th>genres</th>\n",
       "      <th>imdbId</th>\n",
       "      <th>poster_path</th>\n",
       "    </tr>\n",
       "  </thead>\n",
       "  <tbody>\n",
       "    <tr>\n",
       "      <th>0</th>\n",
       "      <td>1</td>\n",
       "      <td>Toy Story (1995)</td>\n",
       "      <td>['Animation', \"Children's\", 'Comedy']</td>\n",
       "      <td>114709.0</td>\n",
       "      <td>/rhIRbceoE9lR4veEXuwCC2wARtG.jpg</td>\n",
       "    </tr>\n",
       "    <tr>\n",
       "      <th>1</th>\n",
       "      <td>2</td>\n",
       "      <td>Jumanji (1995)</td>\n",
       "      <td>['Adventure', \"Children's\", 'Fantasy']</td>\n",
       "      <td>113497.0</td>\n",
       "      <td>/vzmL6fP7aPKNKPRTFnZmiUfciyV.jpg</td>\n",
       "    </tr>\n",
       "    <tr>\n",
       "      <th>2</th>\n",
       "      <td>3</td>\n",
       "      <td>Grumpier Old Men (1995)</td>\n",
       "      <td>['Comedy', 'Romance']</td>\n",
       "      <td>113228.0</td>\n",
       "      <td>/6ksm1sjKMFLbO7UY2i6G1ju9SML.jpg</td>\n",
       "    </tr>\n",
       "    <tr>\n",
       "      <th>3</th>\n",
       "      <td>4</td>\n",
       "      <td>Waiting to Exhale (1995)</td>\n",
       "      <td>['Comedy', 'Drama']</td>\n",
       "      <td>114885.0</td>\n",
       "      <td>/16XOMpEaLWkrcPqSQqhTmeJuqQl.jpg</td>\n",
       "    </tr>\n",
       "    <tr>\n",
       "      <th>4</th>\n",
       "      <td>5</td>\n",
       "      <td>Father of the Bride Part II (1995)</td>\n",
       "      <td>['Comedy']</td>\n",
       "      <td>113041.0</td>\n",
       "      <td>/e64sOI48hQXyru7naBFyssKFxVd.jpg</td>\n",
       "    </tr>\n",
       "  </tbody>\n",
       "</table>\n",
       "</div>"
      ],
      "text/plain": [
       "   movie_id                               title  \\\n",
       "0         1                    Toy Story (1995)   \n",
       "1         2                      Jumanji (1995)   \n",
       "2         3             Grumpier Old Men (1995)   \n",
       "3         4            Waiting to Exhale (1995)   \n",
       "4         5  Father of the Bride Part II (1995)   \n",
       "\n",
       "                                   genres    imdbId  \\\n",
       "0   ['Animation', \"Children's\", 'Comedy']  114709.0   \n",
       "1  ['Adventure', \"Children's\", 'Fantasy']  113497.0   \n",
       "2                   ['Comedy', 'Romance']  113228.0   \n",
       "3                     ['Comedy', 'Drama']  114885.0   \n",
       "4                              ['Comedy']  113041.0   \n",
       "\n",
       "                        poster_path  \n",
       "0  /rhIRbceoE9lR4veEXuwCC2wARtG.jpg  \n",
       "1  /vzmL6fP7aPKNKPRTFnZmiUfciyV.jpg  \n",
       "2  /6ksm1sjKMFLbO7UY2i6G1ju9SML.jpg  \n",
       "3  /16XOMpEaLWkrcPqSQqhTmeJuqQl.jpg  \n",
       "4  /e64sOI48hQXyru7naBFyssKFxVd.jpg  "
      ]
     },
     "execution_count": 25,
     "metadata": {},
     "output_type": "execute_result"
    }
   ],
   "source": [
    "# Clean it up a bit\n",
    "movies = movies.drop(['movieId'], axis=1)"
   ]
  },
  {
   "cell_type": "code",
   "execution_count": 493,
   "metadata": {},
   "outputs": [
    {
     "data": {
      "text/html": [
       "<div>\n",
       "<style scoped>\n",
       "    .dataframe tbody tr th:only-of-type {\n",
       "        vertical-align: middle;\n",
       "    }\n",
       "\n",
       "    .dataframe tbody tr th {\n",
       "        vertical-align: top;\n",
       "    }\n",
       "\n",
       "    .dataframe thead th {\n",
       "        text-align: right;\n",
       "    }\n",
       "</style>\n",
       "<table border=\"1\" class=\"dataframe\">\n",
       "  <thead>\n",
       "    <tr style=\"text-align: right;\">\n",
       "      <th></th>\n",
       "      <th>movie_id</th>\n",
       "      <th>title</th>\n",
       "      <th>genres</th>\n",
       "      <th>imdbId</th>\n",
       "      <th>poster_path</th>\n",
       "    </tr>\n",
       "  </thead>\n",
       "  <tbody>\n",
       "    <tr>\n",
       "      <th>3865</th>\n",
       "      <td>3933</td>\n",
       "      <td>Killer Shrews, The (1959)</td>\n",
       "      <td>['Horror', 'Sci-Fi']</td>\n",
       "      <td>52969.0</td>\n",
       "      <td>/gCUmIRMjG6uYTl5DyyAYi6czpOq.jpg</td>\n",
       "    </tr>\n",
       "    <tr>\n",
       "      <th>696</th>\n",
       "      <td>704</td>\n",
       "      <td>Quest, The (1996)</td>\n",
       "      <td>['Action', 'Adventure']</td>\n",
       "      <td>117420.0</td>\n",
       "      <td>/z05SPecyjaryEedxX9noKQdqIFH.jpg</td>\n",
       "    </tr>\n",
       "    <tr>\n",
       "      <th>1992</th>\n",
       "      <td>2059</td>\n",
       "      <td>Parent Trap, The (1998)</td>\n",
       "      <td>[\"Children's\", 'Drama']</td>\n",
       "      <td>120783.0</td>\n",
       "      <td>/7vR4e3ga3mdSEpYe8kMeUv3mgND.jpg</td>\n",
       "    </tr>\n",
       "    <tr>\n",
       "      <th>2812</th>\n",
       "      <td>2879</td>\n",
       "      <td>Operation Condor (Feiying gaiwak) (1990)</td>\n",
       "      <td>['Action', 'Adventure', 'Comedy']</td>\n",
       "      <td>99558.0</td>\n",
       "      <td>/cU3UPFvOG1Jq7dVE0gmMGnvVboH.jpg</td>\n",
       "    </tr>\n",
       "    <tr>\n",
       "      <th>3114</th>\n",
       "      <td>3181</td>\n",
       "      <td>Titus (1999)</td>\n",
       "      <td>['Drama']</td>\n",
       "      <td>120866.0</td>\n",
       "      <td>/82mCeQoeT2C7h7vR6Ot9MQotE1R.jpg</td>\n",
       "    </tr>\n",
       "    <tr>\n",
       "      <th>2725</th>\n",
       "      <td>2792</td>\n",
       "      <td>Airplane II: The Sequel (1982)</td>\n",
       "      <td>['Comedy']</td>\n",
       "      <td>83530.0</td>\n",
       "      <td>/pjI6j5sVTxJXuxnr2JM2FgvyFXS.jpg</td>\n",
       "    </tr>\n",
       "    <tr>\n",
       "      <th>596</th>\n",
       "      <td>600</td>\n",
       "      <td>Love and a .45 (1994)</td>\n",
       "      <td>['Thriller']</td>\n",
       "      <td>110395.0</td>\n",
       "      <td>/6ziFdFPGPa3iysyLgJbjrzLLpgw.jpg</td>\n",
       "    </tr>\n",
       "    <tr>\n",
       "      <th>2821</th>\n",
       "      <td>2888</td>\n",
       "      <td>Drive Me Crazy (1999)</td>\n",
       "      <td>['Comedy', 'Romance']</td>\n",
       "      <td>164114.0</td>\n",
       "      <td>/ljg0qL7RPUaP8Td6jQ1yOPVSodK.jpg</td>\n",
       "    </tr>\n",
       "    <tr>\n",
       "      <th>1122</th>\n",
       "      <td>1136</td>\n",
       "      <td>Monty Python and the Holy Grail (1974)</td>\n",
       "      <td>['Comedy']</td>\n",
       "      <td>71853.0</td>\n",
       "      <td>/jRx1nDUA4sb2NEKQaukXKBz6pCf.jpg</td>\n",
       "    </tr>\n",
       "    <tr>\n",
       "      <th>3684</th>\n",
       "      <td>3751</td>\n",
       "      <td>Chicken Run (2000)</td>\n",
       "      <td>['Animation', \"Children's\", 'Comedy']</td>\n",
       "      <td>120630.0</td>\n",
       "      <td>/z0MafJgUnVyVbczicYMkPKKHkBi.jpg</td>\n",
       "    </tr>\n",
       "    <tr>\n",
       "      <th>1545</th>\n",
       "      <td>1584</td>\n",
       "      <td>Contact (1997)</td>\n",
       "      <td>['Drama', 'Sci-Fi']</td>\n",
       "      <td>118884.0</td>\n",
       "      <td>/yRF1qpaQPZJjiORDsR7eUHzSHbf.jpg</td>\n",
       "    </tr>\n",
       "    <tr>\n",
       "      <th>3852</th>\n",
       "      <td>3920</td>\n",
       "      <td>Faraway, So Close (In Weiter Ferne, So Nah!) (...</td>\n",
       "      <td>['Drama', 'Fantasy']</td>\n",
       "      <td>107209.0</td>\n",
       "      <td>/bfxTRQ06pko9GxkDZIL171NaMGB.jpg</td>\n",
       "    </tr>\n",
       "    <tr>\n",
       "      <th>1948</th>\n",
       "      <td>2015</td>\n",
       "      <td>Absent Minded Professor, The (1961)</td>\n",
       "      <td>[\"Children's\", 'Comedy', 'Fantasy']</td>\n",
       "      <td>54594.0</td>\n",
       "      <td>/egNWmtjTxq2Vf8Ri9QTrehWTwes.jpg</td>\n",
       "    </tr>\n",
       "    <tr>\n",
       "      <th>204</th>\n",
       "      <td>206</td>\n",
       "      <td>Unzipped (1995)</td>\n",
       "      <td>['Documentary']</td>\n",
       "      <td>114805.0</td>\n",
       "      <td>/5fY5iN8mUBLdd4fmcXwdTqAZ9Sx.jpg</td>\n",
       "    </tr>\n",
       "    <tr>\n",
       "      <th>3769</th>\n",
       "      <td>3837</td>\n",
       "      <td>Phantasm II (1988)</td>\n",
       "      <td>['Horror']</td>\n",
       "      <td>95863.0</td>\n",
       "      <td>/nXTgWw0eWGvSPDblFdDe2tkLDNI.jpg</td>\n",
       "    </tr>\n",
       "    <tr>\n",
       "      <th>2407</th>\n",
       "      <td>2474</td>\n",
       "      <td>Color of Money, The (1986)</td>\n",
       "      <td>['Drama']</td>\n",
       "      <td>90863.0</td>\n",
       "      <td>/xBFzAIDqlvyDIy5Zf5ASVz3kHwN.jpg</td>\n",
       "    </tr>\n",
       "    <tr>\n",
       "      <th>1048</th>\n",
       "      <td>1060</td>\n",
       "      <td>Swingers (1996)</td>\n",
       "      <td>['Comedy', 'Drama']</td>\n",
       "      <td>117802.0</td>\n",
       "      <td>/h1nLEgXCNK6sQgup22SYgNTrwJm.jpg</td>\n",
       "    </tr>\n",
       "    <tr>\n",
       "      <th>3731</th>\n",
       "      <td>3798</td>\n",
       "      <td>What Lies Beneath (2000)</td>\n",
       "      <td>['Thriller']</td>\n",
       "      <td>161081.0</td>\n",
       "      <td>/A1mrfm8LEv7L28q50ld8QI5z9Iu.jpg</td>\n",
       "    </tr>\n",
       "    <tr>\n",
       "      <th>317</th>\n",
       "      <td>320</td>\n",
       "      <td>Suture (1993)</td>\n",
       "      <td>['Film-Noir', 'Thriller']</td>\n",
       "      <td>108260.0</td>\n",
       "      <td>/xP4dO0TVsSvKXx8uwfLSqsbtfLM.jpg</td>\n",
       "    </tr>\n",
       "    <tr>\n",
       "      <th>939</th>\n",
       "      <td>950</td>\n",
       "      <td>Thin Man, The (1934)</td>\n",
       "      <td>['Mystery']</td>\n",
       "      <td>25878.0</td>\n",
       "      <td>/rEXmQIgG8aHiZZbYAPdJjZNUxa.jpg</td>\n",
       "    </tr>\n",
       "  </tbody>\n",
       "</table>\n",
       "</div>"
      ],
      "text/plain": [
       "      movie_id                                              title  \\\n",
       "3865      3933                          Killer Shrews, The (1959)   \n",
       "696        704                                  Quest, The (1996)   \n",
       "1992      2059                            Parent Trap, The (1998)   \n",
       "2812      2879           Operation Condor (Feiying gaiwak) (1990)   \n",
       "3114      3181                                       Titus (1999)   \n",
       "2725      2792                     Airplane II: The Sequel (1982)   \n",
       "596        600                              Love and a .45 (1994)   \n",
       "2821      2888                              Drive Me Crazy (1999)   \n",
       "1122      1136             Monty Python and the Holy Grail (1974)   \n",
       "3684      3751                                 Chicken Run (2000)   \n",
       "1545      1584                                     Contact (1997)   \n",
       "3852      3920  Faraway, So Close (In Weiter Ferne, So Nah!) (...   \n",
       "1948      2015                Absent Minded Professor, The (1961)   \n",
       "204        206                                    Unzipped (1995)   \n",
       "3769      3837                                 Phantasm II (1988)   \n",
       "2407      2474                         Color of Money, The (1986)   \n",
       "1048      1060                                    Swingers (1996)   \n",
       "3731      3798                           What Lies Beneath (2000)   \n",
       "317        320                                      Suture (1993)   \n",
       "939        950                               Thin Man, The (1934)   \n",
       "\n",
       "                                     genres    imdbId  \\\n",
       "3865                   ['Horror', 'Sci-Fi']   52969.0   \n",
       "696                 ['Action', 'Adventure']  117420.0   \n",
       "1992                [\"Children's\", 'Drama']  120783.0   \n",
       "2812      ['Action', 'Adventure', 'Comedy']   99558.0   \n",
       "3114                              ['Drama']  120866.0   \n",
       "2725                             ['Comedy']   83530.0   \n",
       "596                            ['Thriller']  110395.0   \n",
       "2821                  ['Comedy', 'Romance']  164114.0   \n",
       "1122                             ['Comedy']   71853.0   \n",
       "3684  ['Animation', \"Children's\", 'Comedy']  120630.0   \n",
       "1545                    ['Drama', 'Sci-Fi']  118884.0   \n",
       "3852                   ['Drama', 'Fantasy']  107209.0   \n",
       "1948    [\"Children's\", 'Comedy', 'Fantasy']   54594.0   \n",
       "204                         ['Documentary']  114805.0   \n",
       "3769                             ['Horror']   95863.0   \n",
       "2407                              ['Drama']   90863.0   \n",
       "1048                    ['Comedy', 'Drama']  117802.0   \n",
       "3731                           ['Thriller']  161081.0   \n",
       "317               ['Film-Noir', 'Thriller']  108260.0   \n",
       "939                             ['Mystery']   25878.0   \n",
       "\n",
       "                           poster_path  \n",
       "3865  /gCUmIRMjG6uYTl5DyyAYi6czpOq.jpg  \n",
       "696   /z05SPecyjaryEedxX9noKQdqIFH.jpg  \n",
       "1992  /7vR4e3ga3mdSEpYe8kMeUv3mgND.jpg  \n",
       "2812  /cU3UPFvOG1Jq7dVE0gmMGnvVboH.jpg  \n",
       "3114  /82mCeQoeT2C7h7vR6Ot9MQotE1R.jpg  \n",
       "2725  /pjI6j5sVTxJXuxnr2JM2FgvyFXS.jpg  \n",
       "596   /6ziFdFPGPa3iysyLgJbjrzLLpgw.jpg  \n",
       "2821  /ljg0qL7RPUaP8Td6jQ1yOPVSodK.jpg  \n",
       "1122  /jRx1nDUA4sb2NEKQaukXKBz6pCf.jpg  \n",
       "3684  /z0MafJgUnVyVbczicYMkPKKHkBi.jpg  \n",
       "1545  /yRF1qpaQPZJjiORDsR7eUHzSHbf.jpg  \n",
       "3852  /bfxTRQ06pko9GxkDZIL171NaMGB.jpg  \n",
       "1948  /egNWmtjTxq2Vf8Ri9QTrehWTwes.jpg  \n",
       "204   /5fY5iN8mUBLdd4fmcXwdTqAZ9Sx.jpg  \n",
       "3769  /nXTgWw0eWGvSPDblFdDe2tkLDNI.jpg  \n",
       "2407  /xBFzAIDqlvyDIy5Zf5ASVz3kHwN.jpg  \n",
       "1048  /h1nLEgXCNK6sQgup22SYgNTrwJm.jpg  \n",
       "3731  /A1mrfm8LEv7L28q50ld8QI5z9Iu.jpg  \n",
       "317   /xP4dO0TVsSvKXx8uwfLSqsbtfLM.jpg  \n",
       "939    /rEXmQIgG8aHiZZbYAPdJjZNUxa.jpg  "
      ]
     },
     "execution_count": 493,
     "metadata": {},
     "output_type": "execute_result"
    }
   ],
   "source": [
    "# Grab a random sample of movies - this function will be used later in the website to display 6 random titles on the index page\n",
    "movies.sample(20)"
   ]
  },
  {
   "cell_type": "code",
   "execution_count": 26,
   "metadata": {},
   "outputs": [],
   "source": [
    "from IPython.display import HTML\n",
    "from IPython.display import display\n",
    "\n",
    "def display_recommendations(df):\n",
    "\n",
    "    images = ''\n",
    "    for ref in df.poster_path:\n",
    "            if ref != '':\n",
    "                link = 'http://image.tmdb.org/t/p/w185/' + ref\n",
    "                images += \"<img style='width: 120px; margin: 0px; \\\n",
    "                  float: left; border: 1px solid black;' src='%s' />\" \\\n",
    "              % link\n",
    "    display(HTML(images))"
   ]
  },
  {
   "cell_type": "code",
   "execution_count": 31,
   "metadata": {},
   "outputs": [],
   "source": [
    "# Create a dataframe from the recommendations\n",
    "rec_df = genre_recommendations('Good Will Hunting (1997)').head(8).to_frame()"
   ]
  },
  {
   "cell_type": "code",
   "execution_count": 33,
   "metadata": {},
   "outputs": [
    {
     "data": {
      "text/html": [
       "<div>\n",
       "<style scoped>\n",
       "    .dataframe tbody tr th:only-of-type {\n",
       "        vertical-align: middle;\n",
       "    }\n",
       "\n",
       "    .dataframe tbody tr th {\n",
       "        vertical-align: top;\n",
       "    }\n",
       "\n",
       "    .dataframe thead th {\n",
       "        text-align: right;\n",
       "    }\n",
       "</style>\n",
       "<table border=\"1\" class=\"dataframe\">\n",
       "  <thead>\n",
       "    <tr style=\"text-align: right;\">\n",
       "      <th></th>\n",
       "      <th>title</th>\n",
       "    </tr>\n",
       "  </thead>\n",
       "  <tbody>\n",
       "    <tr>\n",
       "      <th>25</th>\n",
       "      <td>Othello (1995)</td>\n",
       "    </tr>\n",
       "    <tr>\n",
       "      <th>26</th>\n",
       "      <td>Now and Then (1995)</td>\n",
       "    </tr>\n",
       "    <tr>\n",
       "      <th>29</th>\n",
       "      <td>Shanghai Triad (Yao a yao yao dao waipo qiao) ...</td>\n",
       "    </tr>\n",
       "    <tr>\n",
       "      <th>30</th>\n",
       "      <td>Dangerous Minds (1995)</td>\n",
       "    </tr>\n",
       "    <tr>\n",
       "      <th>35</th>\n",
       "      <td>Dead Man Walking (1995)</td>\n",
       "    </tr>\n",
       "  </tbody>\n",
       "</table>\n",
       "</div>"
      ],
      "text/plain": [
       "                                                title\n",
       "25                                     Othello (1995)\n",
       "26                                Now and Then (1995)\n",
       "29  Shanghai Triad (Yao a yao yao dao waipo qiao) ...\n",
       "30                             Dangerous Minds (1995)\n",
       "35                            Dead Man Walking (1995)"
      ]
     },
     "execution_count": 33,
     "metadata": {},
     "output_type": "execute_result"
    }
   ],
   "source": [
    "rec_df.head()"
   ]
  },
  {
   "cell_type": "code",
   "execution_count": 36,
   "metadata": {},
   "outputs": [],
   "source": [
    "cols = ['title']\n",
    "display_df = rec_df.join(movies.set_index(cols), on=cols)"
   ]
  },
  {
   "cell_type": "code",
   "execution_count": 101,
   "metadata": {},
   "outputs": [
    {
     "data": {
      "text/html": [
       "<div>\n",
       "<style scoped>\n",
       "    .dataframe tbody tr th:only-of-type {\n",
       "        vertical-align: middle;\n",
       "    }\n",
       "\n",
       "    .dataframe tbody tr th {\n",
       "        vertical-align: top;\n",
       "    }\n",
       "\n",
       "    .dataframe thead th {\n",
       "        text-align: right;\n",
       "    }\n",
       "</style>\n",
       "<table border=\"1\" class=\"dataframe\">\n",
       "  <thead>\n",
       "    <tr style=\"text-align: right;\">\n",
       "      <th></th>\n",
       "      <th>title</th>\n",
       "      <th>movie_id</th>\n",
       "      <th>genres</th>\n",
       "      <th>imdbId</th>\n",
       "      <th>poster_path</th>\n",
       "    </tr>\n",
       "  </thead>\n",
       "  <tbody>\n",
       "    <tr>\n",
       "      <th>25</th>\n",
       "      <td>Othello (1995)</td>\n",
       "      <td>26</td>\n",
       "      <td>['Drama']</td>\n",
       "      <td>114057.0</td>\n",
       "      <td>/qM0BXEQjmnAzlkDZ0tYmV6twqMX.jpg</td>\n",
       "    </tr>\n",
       "    <tr>\n",
       "      <th>26</th>\n",
       "      <td>Now and Then (1995)</td>\n",
       "      <td>27</td>\n",
       "      <td>['Drama']</td>\n",
       "      <td>114011.0</td>\n",
       "      <td>/wD6rLdD2Ix3u9YLgE3Do8GyCHoz.jpg</td>\n",
       "    </tr>\n",
       "    <tr>\n",
       "      <th>29</th>\n",
       "      <td>Shanghai Triad (Yao a yao yao dao waipo qiao) ...</td>\n",
       "      <td>30</td>\n",
       "      <td>['Drama']</td>\n",
       "      <td>115012.0</td>\n",
       "      <td>/qcoOCoN7viOhboGwhYXyApdDuiq.jpg</td>\n",
       "    </tr>\n",
       "    <tr>\n",
       "      <th>30</th>\n",
       "      <td>Dangerous Minds (1995)</td>\n",
       "      <td>31</td>\n",
       "      <td>['Drama']</td>\n",
       "      <td>112792.0</td>\n",
       "      <td>/y5Jee3QmYOlpqfaPPbfvtdVc5wj.jpg</td>\n",
       "    </tr>\n",
       "    <tr>\n",
       "      <th>35</th>\n",
       "      <td>Dead Man Walking (1995)</td>\n",
       "      <td>36</td>\n",
       "      <td>['Drama']</td>\n",
       "      <td>112818.0</td>\n",
       "      <td>/y19uRkAHXOHLeySuBVMqnvVnsrA.jpg</td>\n",
       "    </tr>\n",
       "  </tbody>\n",
       "</table>\n",
       "</div>"
      ],
      "text/plain": [
       "                                                title  movie_id     genres  \\\n",
       "25                                     Othello (1995)        26  ['Drama']   \n",
       "26                                Now and Then (1995)        27  ['Drama']   \n",
       "29  Shanghai Triad (Yao a yao yao dao waipo qiao) ...        30  ['Drama']   \n",
       "30                             Dangerous Minds (1995)        31  ['Drama']   \n",
       "35                            Dead Man Walking (1995)        36  ['Drama']   \n",
       "\n",
       "      imdbId                       poster_path  \n",
       "25  114057.0  /qM0BXEQjmnAzlkDZ0tYmV6twqMX.jpg  \n",
       "26  114011.0  /wD6rLdD2Ix3u9YLgE3Do8GyCHoz.jpg  \n",
       "29  115012.0  /qcoOCoN7viOhboGwhYXyApdDuiq.jpg  \n",
       "30  112792.0  /y5Jee3QmYOlpqfaPPbfvtdVc5wj.jpg  \n",
       "35  112818.0  /y19uRkAHXOHLeySuBVMqnvVnsrA.jpg  "
      ]
     },
     "execution_count": 101,
     "metadata": {},
     "output_type": "execute_result"
    }
   ],
   "source": [
    "display_df.head()"
   ]
  },
  {
   "cell_type": "code",
   "execution_count": 39,
   "metadata": {},
   "outputs": [
    {
     "name": "stdout",
     "output_type": "stream",
     "text": [
      "Here are some titles that our algorithm recommends for you based on your search query:\n"
     ]
    },
    {
     "data": {
      "text/html": [
       "<img style='width: 120px; margin: 0px;                   float: left; border: 1px solid black;' src='http://image.tmdb.org/t/p/w185//qM0BXEQjmnAzlkDZ0tYmV6twqMX.jpg' /><img style='width: 120px; margin: 0px;                   float: left; border: 1px solid black;' src='http://image.tmdb.org/t/p/w185//wD6rLdD2Ix3u9YLgE3Do8GyCHoz.jpg' /><img style='width: 120px; margin: 0px;                   float: left; border: 1px solid black;' src='http://image.tmdb.org/t/p/w185//qcoOCoN7viOhboGwhYXyApdDuiq.jpg' /><img style='width: 120px; margin: 0px;                   float: left; border: 1px solid black;' src='http://image.tmdb.org/t/p/w185//y5Jee3QmYOlpqfaPPbfvtdVc5wj.jpg' /><img style='width: 120px; margin: 0px;                   float: left; border: 1px solid black;' src='http://image.tmdb.org/t/p/w185//y19uRkAHXOHLeySuBVMqnvVnsrA.jpg' />"
      ],
      "text/plain": [
       "<IPython.core.display.HTML object>"
      ]
     },
     "metadata": {},
     "output_type": "display_data"
    }
   ],
   "source": [
    "print('Here are some titles that our algorithm recommends for you based on your search query:')\n",
    "display_recommendations(display_df)"
   ]
  },
  {
   "cell_type": "code",
   "execution_count": null,
   "metadata": {},
   "outputs": [],
   "source": [
    "# titles for easy copypasta testing\n",
    "\n",
    "# Terminator 2: Judgment Day (1991)\n",
    "# Star Wars: Episode IV - A New Hope (1977)\n",
    "# Ace Ventura: When Nature Calls (1995)\n",
    "# Mortal Kombat (1995)\n",
    "# Dangerous Minds (1995)\n",
    "# Clueless (1995)\n",
    "# Casino (1995)\n",
    "# GoldenEye (1995)\n",
    "# Phantom of the Opera, The (1943)\n",
    "# Airheads (1994)\n",
    "# Homeward Bound: The Incredible Journey (1993)\n",
    "# Airplane! (1980)\n",
    "# Office Space (1999)\n",
    "# Fight Club (1999)\n",
    "# Meet Joe Black (1998)\n",
    "# Death Becomes Her (1992)\n",
    "# Schindler's List (1993)\n",
    "# Misery (1990)\n",
    "# Blues Brothers, The (1980)\n",
    "# Lethal Weapon 3 (1992)"
   ]
  },
  {
   "cell_type": "code",
   "execution_count": 156,
   "metadata": {},
   "outputs": [],
   "source": [
    "# Testing combined functionality\n",
    "def movie_bot(title):\n",
    "    titles = movies['title']\n",
    "    indices = pd.Series(movies.index, index=movies['title'])\n",
    "\n",
    "    idx = indices[title]\n",
    "    sim_scores = list(enumerate(cosine_sim[idx]))\n",
    "    sim_scores = sorted(sim_scores, key=lambda x: x[1], reverse=True)\n",
    "    sim_scores = sim_scores[1:21]\n",
    "    movie_indices = [i[0] for i in sim_scores]\n",
    "    mv = titles.iloc[movie_indices].head(12).to_frame()\n",
    "    cols = ['title']\n",
    "    temp_df = mv.join(movies.set_index(cols), on=cols)\n",
    "    images = ''\n",
    "    for ref in temp_df.poster_path:\n",
    "        if ref != '':\n",
    "            link = 'http://image.tmdb.org/t/p/w185/' + ref\n",
    "            images += \"<img style='width: 220px; height: 300px; margin: 0px; \\\n",
    "                float: left; border: 1px solid black;' src='%s' />\" \\\n",
    "            % link\n",
    "    return print(f'Based on your search query of {title}, here are some recommended titles:'), display(HTML(images))"
   ]
  },
  {
   "cell_type": "code",
   "execution_count": 167,
   "metadata": {},
   "outputs": [
    {
     "name": "stdout",
     "output_type": "stream",
     "text": [
      "Based on your search query of Lethal Weapon 3 (1992), here are some recommended titles:\n"
     ]
    },
    {
     "data": {
      "text/html": [
       "<img style='width: 220px; height: 300px; margin: 0px;                 float: left; border: 1px solid black;' src='http://image.tmdb.org/t/p/w185//3OrapxFNr12AhRxupQ8Z2jP1D13.jpg' /><img style='width: 220px; height: 300px; margin: 0px;                 float: left; border: 1px solid black;' src='http://image.tmdb.org/t/p/w185//xwiZZv8jSPx4F1vvXoJthBY6FRb.jpg' /><img style='width: 220px; height: 300px; margin: 0px;                 float: left; border: 1px solid black;' src='http://image.tmdb.org/t/p/w185//cPl88Kh44fo005rYrdIxm62GQCb.jpg' /><img style='width: 220px; height: 300px; margin: 0px;                 float: left; border: 1px solid black;' src='http://image.tmdb.org/t/p/w185//6uYYGXYZluoxloY7uIpFkvKwq8z.jpg' /><img style='width: 220px; height: 300px; margin: 0px;                 float: left; border: 1px solid black;' src='http://image.tmdb.org/t/p/w185//tyujnQl6topN3O9lPnGMpzGsYQM.jpg' /><img style='width: 220px; height: 300px; margin: 0px;                 float: left; border: 1px solid black;' src='http://image.tmdb.org/t/p/w185//vDwphkloD7ToaDpKASAXGgHOclN.jpg' /><img style='width: 220px; height: 300px; margin: 0px;                 float: left; border: 1px solid black;' src='http://image.tmdb.org/t/p/w185//iUZMWvsHivx5V0JAUGWl1v1Q0aC.jpg' /><img style='width: 220px; height: 300px; margin: 0px;                 float: left; border: 1px solid black;' src='http://image.tmdb.org/t/p/w185//kHPiEtmMVLyFiYrvrCwRU9wVXBU.jpg' /><img style='width: 220px; height: 300px; margin: 0px;                 float: left; border: 1px solid black;' src='http://image.tmdb.org/t/p/w185//7XAusKpFNv8x9sHpFLAS2lWCT8l.jpg' /><img style='width: 220px; height: 300px; margin: 0px;                 float: left; border: 1px solid black;' src='http://image.tmdb.org/t/p/w185//pr5RcT2TdJ09PkETdhRiwixf8PW.jpg' /><img style='width: 220px; height: 300px; margin: 0px;                 float: left; border: 1px solid black;' src='http://image.tmdb.org/t/p/w185//oRmvCyeGhXy2JrNgF88KqY3Hgir.jpg' /><img style='width: 220px; height: 300px; margin: 0px;                 float: left; border: 1px solid black;' src='http://image.tmdb.org/t/p/w185//uqEQ2OUC84hVRQpsbgANlbcX0F8.jpg' />"
      ],
      "text/plain": [
       "<IPython.core.display.HTML object>"
      ]
     },
     "metadata": {},
     "output_type": "display_data"
    },
    {
     "data": {
      "text/plain": [
       "(None, None)"
      ]
     },
     "execution_count": 167,
     "metadata": {},
     "output_type": "execute_result"
    }
   ],
   "source": [
    "movie_bot(\"Lethal Weapon 3 (1992)\")"
   ]
  },
  {
   "cell_type": "code",
   "execution_count": 187,
   "metadata": {},
   "outputs": [],
   "source": [
    "def movie_bot_web(title):\n",
    "    titles = movies['title']\n",
    "    indices = pd.Series(movies.index, index=movies['title'])\n",
    "\n",
    "    idx = indices[title]\n",
    "    sim_scores = list(enumerate(cosine_sim[idx]))\n",
    "    sim_scores = sorted(sim_scores, key=lambda x: x[1], reverse=True)\n",
    "    sim_scores = sim_scores[1:21]\n",
    "    movie_indices = [i[0] for i in sim_scores]\n",
    "    mv = titles.iloc[movie_indices].head(12).to_frame()\n",
    "    cols = ['title']\n",
    "    temp_df = mv.join(movies.set_index(cols), on=cols)\n",
    "    images = []\n",
    "    for ref in temp_df.poster_path:\n",
    "        if ref != '':\n",
    "            link = 'http://image.tmdb.org/t/p/w185/' + ref\n",
    "            images.append(\"<img style='width: 220px; height: 300px; margin: 0px; float: left; border: 1px solid black;' src='%s'/>\" % link)\n",
    "    return str(images[0:12])"
   ]
  },
  {
   "cell_type": "code",
   "execution_count": 188,
   "metadata": {},
   "outputs": [
    {
     "data": {
      "text/plain": [
       "'[\"<img style=\\'width: 220px; height: 300px; margin: 0px;                 float: left; border: 1px solid black;\\' src=\\'http://image.tmdb.org/t/p/w185//3OrapxFNr12AhRxupQ8Z2jP1D13.jpg\\' />\", \"<img style=\\'width: 220px; height: 300px; margin: 0px;                 float: left; border: 1px solid black;\\' src=\\'http://image.tmdb.org/t/p/w185//xwiZZv8jSPx4F1vvXoJthBY6FRb.jpg\\' />\", \"<img style=\\'width: 220px; height: 300px; margin: 0px;                 float: left; border: 1px solid black;\\' src=\\'http://image.tmdb.org/t/p/w185//cPl88Kh44fo005rYrdIxm62GQCb.jpg\\' />\", \"<img style=\\'width: 220px; height: 300px; margin: 0px;                 float: left; border: 1px solid black;\\' src=\\'http://image.tmdb.org/t/p/w185//6uYYGXYZluoxloY7uIpFkvKwq8z.jpg\\' />\", \"<img style=\\'width: 220px; height: 300px; margin: 0px;                 float: left; border: 1px solid black;\\' src=\\'http://image.tmdb.org/t/p/w185//tyujnQl6topN3O9lPnGMpzGsYQM.jpg\\' />\", \"<img style=\\'width: 220px; height: 300px; margin: 0px;                 float: left; border: 1px solid black;\\' src=\\'http://image.tmdb.org/t/p/w185//vDwphkloD7ToaDpKASAXGgHOclN.jpg\\' />\", \"<img style=\\'width: 220px; height: 300px; margin: 0px;                 float: left; border: 1px solid black;\\' src=\\'http://image.tmdb.org/t/p/w185//iUZMWvsHivx5V0JAUGWl1v1Q0aC.jpg\\' />\", \"<img style=\\'width: 220px; height: 300px; margin: 0px;                 float: left; border: 1px solid black;\\' src=\\'http://image.tmdb.org/t/p/w185//kHPiEtmMVLyFiYrvrCwRU9wVXBU.jpg\\' />\", \"<img style=\\'width: 220px; height: 300px; margin: 0px;                 float: left; border: 1px solid black;\\' src=\\'http://image.tmdb.org/t/p/w185//7XAusKpFNv8x9sHpFLAS2lWCT8l.jpg\\' />\", \"<img style=\\'width: 220px; height: 300px; margin: 0px;                 float: left; border: 1px solid black;\\' src=\\'http://image.tmdb.org/t/p/w185//pr5RcT2TdJ09PkETdhRiwixf8PW.jpg\\' />\", \"<img style=\\'width: 220px; height: 300px; margin: 0px;                 float: left; border: 1px solid black;\\' src=\\'http://image.tmdb.org/t/p/w185//oRmvCyeGhXy2JrNgF88KqY3Hgir.jpg\\' />\", \"<img style=\\'width: 220px; height: 300px; margin: 0px;                 float: left; border: 1px solid black;\\' src=\\'http://image.tmdb.org/t/p/w185//uqEQ2OUC84hVRQpsbgANlbcX0F8.jpg\\' />\"]'"
      ]
     },
     "execution_count": 188,
     "metadata": {},
     "output_type": "execute_result"
    }
   ],
   "source": [
    "movie_bot_web(\"Lethal Weapon 3 (1992)\")"
   ]
  },
  {
   "cell_type": "code",
   "execution_count": 215,
   "metadata": {},
   "outputs": [],
   "source": [
    "def movie_bot_2(title):\n",
    "    titles = movies['title']\n",
    "    indices = pd.Series(movies.index, index=movies['title'])\n",
    "\n",
    "    idx = indices[title]\n",
    "    sim_scores = list(enumerate(cosine_sim[idx]))\n",
    "    sim_scores = sorted(sim_scores, key=lambda x: x[1], reverse=True)\n",
    "    sim_scores = sim_scores[1:21]\n",
    "    movie_indices = [i[0] for i in sim_scores]\n",
    "    mv = titles.iloc[movie_indices].head(12).to_frame()\n",
    "    cols = ['title']\n",
    "    temp_df = mv.join(movies.set_index(cols), on=cols)\n",
    "    images = ''\n",
    "    for ref in temp_df.poster_path:\n",
    "        if ref != '':\n",
    "            link = 'http://image.tmdb.org/t/p/w185/' + ref\n",
    "            images += \"<img style='width: 220px; height: 300px; margin: 0px; \\\n",
    "                float: left; border: 1px solid black;' src='%s' />\" \\\n",
    "            % link\n",
    "    return print(f'<h2>Based on your search of {title}, here are some movies that we recommend:</h2><br>{images}')"
   ]
  },
  {
   "cell_type": "code",
   "execution_count": 216,
   "metadata": {
    "scrolled": true
   },
   "outputs": [
    {
     "name": "stdout",
     "output_type": "stream",
     "text": [
      "<h2>Based on your search of Lethal Weapon 3 (1992), here are some movies that we recommend:</h2><br><img style='width: 220px; height: 300px; margin: 0px;                 float: left; border: 1px solid black;' src='http://image.tmdb.org/t/p/w185//3OrapxFNr12AhRxupQ8Z2jP1D13.jpg' /><img style='width: 220px; height: 300px; margin: 0px;                 float: left; border: 1px solid black;' src='http://image.tmdb.org/t/p/w185//xwiZZv8jSPx4F1vvXoJthBY6FRb.jpg' /><img style='width: 220px; height: 300px; margin: 0px;                 float: left; border: 1px solid black;' src='http://image.tmdb.org/t/p/w185//cPl88Kh44fo005rYrdIxm62GQCb.jpg' /><img style='width: 220px; height: 300px; margin: 0px;                 float: left; border: 1px solid black;' src='http://image.tmdb.org/t/p/w185//6uYYGXYZluoxloY7uIpFkvKwq8z.jpg' /><img style='width: 220px; height: 300px; margin: 0px;                 float: left; border: 1px solid black;' src='http://image.tmdb.org/t/p/w185//tyujnQl6topN3O9lPnGMpzGsYQM.jpg' /><img style='width: 220px; height: 300px; margin: 0px;                 float: left; border: 1px solid black;' src='http://image.tmdb.org/t/p/w185//vDwphkloD7ToaDpKASAXGgHOclN.jpg' /><img style='width: 220px; height: 300px; margin: 0px;                 float: left; border: 1px solid black;' src='http://image.tmdb.org/t/p/w185//iUZMWvsHivx5V0JAUGWl1v1Q0aC.jpg' /><img style='width: 220px; height: 300px; margin: 0px;                 float: left; border: 1px solid black;' src='http://image.tmdb.org/t/p/w185//kHPiEtmMVLyFiYrvrCwRU9wVXBU.jpg' /><img style='width: 220px; height: 300px; margin: 0px;                 float: left; border: 1px solid black;' src='http://image.tmdb.org/t/p/w185//7XAusKpFNv8x9sHpFLAS2lWCT8l.jpg' /><img style='width: 220px; height: 300px; margin: 0px;                 float: left; border: 1px solid black;' src='http://image.tmdb.org/t/p/w185//pr5RcT2TdJ09PkETdhRiwixf8PW.jpg' /><img style='width: 220px; height: 300px; margin: 0px;                 float: left; border: 1px solid black;' src='http://image.tmdb.org/t/p/w185//oRmvCyeGhXy2JrNgF88KqY3Hgir.jpg' /><img style='width: 220px; height: 300px; margin: 0px;                 float: left; border: 1px solid black;' src='http://image.tmdb.org/t/p/w185//uqEQ2OUC84hVRQpsbgANlbcX0F8.jpg' />\n"
     ]
    }
   ],
   "source": [
    "movie_bot_2(\"Lethal Weapon 3 (1992)\")"
   ]
  },
  {
   "cell_type": "code",
   "execution_count": 268,
   "metadata": {},
   "outputs": [],
   "source": [
    "def six_random_movies():\n",
    "    rando_df = movies.sample(6)\n",
    "    images = ''\n",
    "    for ref in rando_df.poster_path:\n",
    "        if ref != '':\n",
    "            link = 'http://image.tmdb.org/t/p/w185/' + ref\n",
    "            images += \"<div class='col-md-2'><a href='#'><img style='width: 220px; height: 300px; margin: 0px; \\\n",
    "                float: left; border: 1px solid black;' src='%s' /></div>\" \\\n",
    "            % link \n",
    "            \n",
    "    return print(f'{images}')"
   ]
  },
  {
   "cell_type": "code",
   "execution_count": 269,
   "metadata": {},
   "outputs": [
    {
     "name": "stdout",
     "output_type": "stream",
     "text": [
      "<div class='col-md-2'><a href='#'><img style='width: 220px; height: 300px; margin: 0px;                 float: left; border: 1px solid black;' src='http://image.tmdb.org/t/p/w185//y7AxKPPCtZyrGQKvxzn5zTQ8wFm.jpg' /></div><div class='col-md-2'><a href='#'><img style='width: 220px; height: 300px; margin: 0px;                 float: left; border: 1px solid black;' src='http://image.tmdb.org/t/p/w185//sASN1VnJxWosdzp4mH40P47Xhhz.jpg' /></div><div class='col-md-2'><a href='#'><img style='width: 220px; height: 300px; margin: 0px;                 float: left; border: 1px solid black;' src='http://image.tmdb.org/t/p/w185//eKpxCQllaktjfqR11ITbYstcHmD.jpg' /></div><div class='col-md-2'><a href='#'><img style='width: 220px; height: 300px; margin: 0px;                 float: left; border: 1px solid black;' src='http://image.tmdb.org/t/p/w185//7NdKNNrONwbmCOJgTO4wYjWzQyW.jpg' /></div><div class='col-md-2'><a href='#'><img style='width: 220px; height: 300px; margin: 0px;                 float: left; border: 1px solid black;' src='http://image.tmdb.org/t/p/w185//iNlm1BBGCwfP207QzuUk2Ei13sG.jpg' /></div><div class='col-md-2'><a href='#'><img style='width: 220px; height: 300px; margin: 0px;                 float: left; border: 1px solid black;' src='http://image.tmdb.org/t/p/w185//yCUahqDKdQt14DqL8fW9LzP2ZMo.jpg' /></div>\n"
     ]
    }
   ],
   "source": [
    "six_random_movies()"
   ]
  },
  {
   "cell_type": "code",
   "execution_count": 326,
   "metadata": {},
   "outputs": [],
   "source": [
    "def six_movies():\n",
    "    rando_df = movies.sample(6)\n",
    "    url = ''\n",
    "    for x in rando_df:\n",
    "        title = rando_df[\"title\"]\n",
    "        link = 'http://image.tmdb.org/t/p/w185/' + rando_df.poster_path\n",
    "        url += \"<div class='col-md-2'><a href='\" + title + \"'><img style='width: 220px; height: 300px; margin: 0px; \\\n",
    "                float: left; border: 1px solid black;' src='\" + link + \"'/></div>\"\n",
    "    link2 = repr(url)\n",
    "    return link2"
   ]
  },
  {
   "cell_type": "code",
   "execution_count": 327,
   "metadata": {},
   "outputs": [
    {
     "data": {
      "text/plain": [
       "\"2168    <div class='col-md-2'><a href='One Man's Hero ...\\n3856    <div class='col-md-2'><a href='Pajama Party (1...\\n2800    <div class='col-md-2'><a href='Fright Night (1...\\n3708    <div class='col-md-2'><a href='Make Mine Music...\\n3634    <div class='col-md-2'><a href='Alien Nation (1...\\n388     <div class='col-md-2'><a href='Secret Adventur...\\ndtype: object\""
      ]
     },
     "execution_count": 327,
     "metadata": {},
     "output_type": "execute_result"
    }
   ],
   "source": [
    "six_movies()"
   ]
  },
  {
   "cell_type": "code",
   "execution_count": 291,
   "metadata": {},
   "outputs": [],
   "source": [
    "rd = movies.sample(6)"
   ]
  },
  {
   "cell_type": "code",
   "execution_count": 484,
   "metadata": {},
   "outputs": [],
   "source": [
    "# Generate a df with 6 movies, selected at random, and then format the response to be placed directly into the webpage using js\n",
    "def six_movies():\n",
    "    rando_df = movies.sample(6)\n",
    "    title = []\n",
    "    url = []\n",
    "    div_open = \"<div class='col-md-2'><a href='\"\n",
    "    img_open = \"'><img class='border' style='width: 220px; height: 300px; margin: 0px; float: left; border: 1px solid black;' src='\"\n",
    "    div_close = \"'></a></div>\"\n",
    "    for x in rando_df.title:\n",
    "        title.append(x)\n",
    "    for y in rando_df.poster_path:\n",
    "        url.append(\"http://image.tmdb.org/t/p/w185\" + y)\n",
    "    \n",
    "    return (f\"{div_open}{title[0]}{img_open}{url[0]}{div_close} \\\n",
    "                   {div_open}{title[1]}{img_open}{url[1]}{div_close} \\\n",
    "                   {div_open}{title[2]}{img_open}{url[2]}{div_close} \\\n",
    "                   {div_open}{title[3]}{img_open}{url[3]}{div_close} \\\n",
    "                   {div_open}{title[4]}{img_open}{url[4]}{div_close} \\\n",
    "                   {div_open}{title[5]}{img_open}{url[5]}{div_close}\")"
   ]
  },
  {
   "cell_type": "code",
   "execution_count": 485,
   "metadata": {},
   "outputs": [
    {
     "data": {
      "text/plain": [
       "\"<div class='col-md-2'><a href='Midnight Run (1988)'><img class='border' style='width: 220px; height: 300px; margin: 0px; float: left; border: 1px solid black;' src='http://image.tmdb.org/t/p/w185/pVUfLM9z2H2rxB4Til8YvjUjnp.jpg'></a></div>                    <div class='col-md-2'><a href='Raining Stones (1993)'><img class='border' style='width: 220px; height: 300px; margin: 0px; float: left; border: 1px solid black;' src='http://image.tmdb.org/t/p/w185/eWUZT0vdQZLyeKpWtwheGY23TdW.jpg'></a></div>                    <div class='col-md-2'><a href='Year of Living Dangerously (1982)'><img class='border' style='width: 220px; height: 300px; margin: 0px; float: left; border: 1px solid black;' src='http://image.tmdb.org/t/p/w185/3fBuFmNLTDKuL3QOlgeIvLdekJn.jpg'></a></div>                    <div class='col-md-2'><a href='Innocent Sleep, The (1995)'><img class='border' style='width: 220px; height: 300px; margin: 0px; float: left; border: 1px solid black;' src='http://image.tmdb.org/t/p/w185/kmdu3X5XPdKWpNz7ETUmhEnRSm.jpg'></a></div>                    <div class='col-md-2'><a href='American Gigolo (1980)'><img class='border' style='width: 220px; height: 300px; margin: 0px; float: left; border: 1px solid black;' src='http://image.tmdb.org/t/p/w185/kwbOIABYZjLwd8UViMvkw40l2rr.jpg'></a></div>                    <div class='col-md-2'><a href='Amityville: A New Generation (1993)'><img class='border' style='width: 220px; height: 300px; margin: 0px; float: left; border: 1px solid black;' src='http://image.tmdb.org/t/p/w185/k38YBT6yg22NziWVOT7p1ULLzQ9.jpg'></a></div>\""
      ]
     },
     "execution_count": 485,
     "metadata": {},
     "output_type": "execute_result"
    }
   ],
   "source": [
    "six_movies()"
   ]
  },
  {
   "cell_type": "code",
   "execution_count": 480,
   "metadata": {},
   "outputs": [],
   "source": [
    "# The brains of the operation. Generate 12 recommendations using cosine similarity. \n",
    "# Then, format the response to be placed directly into the webpage\n",
    "# NOTE: This will later be changed in the Flask app, as the html will be hard coded into the .html file and query the Flask app\n",
    "def movie_bot_final(title):\n",
    "    titles = movies['title']\n",
    "    indices = pd.Series(movies.index, index=movies['title'])\n",
    "    idx = indices[title]\n",
    "    sim_scores = list(enumerate(cosine_sim[idx]))\n",
    "    sim_scores = sorted(sim_scores, key=lambda x: x[1], reverse=True)\n",
    "    sim_scores = sim_scores[1:21]\n",
    "    movie_indices = [i[0] for i in sim_scores]\n",
    "    mv = titles.iloc[movie_indices].head(12).to_frame()\n",
    "    cols = ['title']\n",
    "    temp_df = mv.join(movies.set_index(cols), on=cols)\n",
    "    moviename = []\n",
    "    url = []\n",
    "    div_open = \"<div class='col-md-2'><a href='\"\n",
    "    img_open = \"'><img class='border' style='width: 220px; height: 300px; margin: 15px 0 0 0; float: left; border: 1px solid black;' src='\"\n",
    "    div_close = \"'></a></div>\"\n",
    "    for film in temp_df.title:\n",
    "        moviename.append(film)\n",
    "    for poster in temp_df.poster_path:\n",
    "        url.append(\"http://image.tmdb.org/t/p/w185\" + poster)\n",
    "    \n",
    "    return (f'<h3>Based on your search of {title}, here are some movies that you might find interesting:</h3> \\\n",
    "                   {div_open}{moviename[0]}{img_open}{url[0]}{div_close} \\\n",
    "                   {div_open}{moviename[1]}{img_open}{url[1]}{div_close} \\\n",
    "                   {div_open}{moviename[2]}{img_open}{url[2]}{div_close} \\\n",
    "                   {div_open}{moviename[3]}{img_open}{url[3]}{div_close} \\\n",
    "                   {div_open}{moviename[4]}{img_open}{url[4]}{div_close} \\\n",
    "                   {div_open}{moviename[5]}{img_open}{url[5]}{div_close} \\\n",
    "                   {div_open}{moviename[6]}{img_open}{url[6]}{div_close} \\\n",
    "                   {div_open}{moviename[7]}{img_open}{url[7]}{div_close} \\\n",
    "                   {div_open}{moviename[8]}{img_open}{url[8]}{div_close} \\\n",
    "                   {div_open}{moviename[9]}{img_open}{url[9]}{div_close} \\\n",
    "                   {div_open}{moviename[10]}{img_open}{url[10]}{div_close} \\\n",
    "                   {div_open}{moviename[11]}{img_open}{url[11]}{div_close}')    "
   ]
  },
  {
   "cell_type": "code",
   "execution_count": 486,
   "metadata": {},
   "outputs": [
    {
     "data": {
      "text/plain": [
       "\"<h3>Based on your search of Midnight Run (1988), here are some movies that you might find interesting:</h3>                    <div class='col-md-2'><a href='Leaving Las Vegas (1995)'><img class='border' style='width: 220px; height: 300px; margin: 15px 0 0 0; float: left; border: 1px solid black;' src='http://image.tmdb.org/t/p/w185/37qHRJxnSh5YkuaN9FgfNnMl3Tj.jpg'></a></div>                    <div class='col-md-2'><a href='Carrington (1995)'><img class='border' style='width: 220px; height: 300px; margin: 15px 0 0 0; float: left; border: 1px solid black;' src='http://image.tmdb.org/t/p/w185/a7w6rPdTBgWAx6lnhwHemPx9pEw.jpg'></a></div>                    <div class='col-md-2'><a href='How to Make an American Quilt (1995)'><img class='border' style='width: 220px; height: 300px; margin: 15px 0 0 0; float: left; border: 1px solid black;' src='http://image.tmdb.org/t/p/w185/wnWAZHbjX5Wj6hyb0gGmFdMADZk.jpg'></a></div>                    <div class='col-md-2'><a href='When Night Is Falling (1995)'><img class='border' style='width: 220px; height: 300px; margin: 15px 0 0 0; float: left; border: 1px solid black;' src='http://image.tmdb.org/t/p/w185/wnUuYc9XnWrTTAGz8YjjULA3Zmr.jpg'></a></div>                    <div class='col-md-2'><a href='Postino, Il (The Postman) (1994)'><img class='border' style='width: 220px; height: 300px; margin: 15px 0 0 0; float: left; border: 1px solid black;' src='http://image.tmdb.org/t/p/w185/qkq2JfINRQi4Iu9VTMMtQFfmGWZ.jpg'></a></div>                    <div class='col-md-2'><a href='Bed of Roses (1996)'><img class='border' style='width: 220px; height: 300px; margin: 15px 0 0 0; float: left; border: 1px solid black;' src='http://image.tmdb.org/t/p/w185/kTEpzjzyeYER1WuCm7Seul4Fatc.jpg'></a></div>                    <div class='col-md-2'><a href='Angels and Insects (1995)'><img class='border' style='width: 220px; height: 300px; margin: 15px 0 0 0; float: left; border: 1px solid black;' src='http://image.tmdb.org/t/p/w185/1QyCF6IFoX5WJIYHOkmLa3vzU0r.jpg'></a></div>                    <div class='col-md-2'><a href='Bridges of Madison County, The (1995)'><img class='border' style='width: 220px; height: 300px; margin: 15px 0 0 0; float: left; border: 1px solid black;' src='http://image.tmdb.org/t/p/w185/czRuGEx9Yhnh6nApirTLPToxHNu.jpg'></a></div>                    <div class='col-md-2'><a href='Frankie Starlight (1995)'><img class='border' style='width: 220px; height: 300px; margin: 15px 0 0 0; float: left; border: 1px solid black;' src='http://image.tmdb.org/t/p/w185/1cPX7MWnEYG21tSdEpWlFygZUwY.jpg'></a></div>                    <div class='col-md-2'><a href='Up Close and Personal (1996)'><img class='border' style='width: 220px; height: 300px; margin: 15px 0 0 0; float: left; border: 1px solid black;' src='http://image.tmdb.org/t/p/w185/bxRJQjCsJu6j4lvphjVJ5knNebs.jpg'></a></div>                    <div class='col-md-2'><a href='Mad Love (1995)'><img class='border' style='width: 220px; height: 300px; margin: 15px 0 0 0; float: left; border: 1px solid black;' src='http://image.tmdb.org/t/p/w185/yLq2bns665GyK5UcMXKUJmItm7F.jpg'></a></div>                    <div class='col-md-2'><a href='Moonlight and Valentino (1995)'><img class='border' style='width: 220px; height: 300px; margin: 15px 0 0 0; float: left; border: 1px solid black;' src='http://image.tmdb.org/t/p/w185/wLwkTj5DRVNUnKSsNHdoka4QPLF.jpg'></a></div>\""
      ]
     },
     "execution_count": 486,
     "metadata": {},
     "output_type": "execute_result"
    }
   ],
   "source": [
    "movie_bot_final(\"Midnight Run (1988)\")"
   ]
  },
  {
   "cell_type": "code",
   "execution_count": 489,
   "metadata": {},
   "outputs": [],
   "source": [
    "# Export cleaned and formatted movies df to a csv to be used by the Flask app\n",
    "movies.to_csv(index=False, path_or_buf='moovees.csv')"
   ]
  },
  {
   "cell_type": "code",
   "execution_count": 490,
   "metadata": {},
   "outputs": [
    {
     "data": {
      "text/plain": [
       "3885"
      ]
     },
     "execution_count": 490,
     "metadata": {},
     "output_type": "execute_result"
    }
   ],
   "source": [
    "movies.title.count()"
   ]
  },
  {
   "cell_type": "code",
   "execution_count": 491,
   "metadata": {},
   "outputs": [
    {
     "data": {
      "text/plain": [
       "3802"
      ]
     },
     "execution_count": 491,
     "metadata": {},
     "output_type": "execute_result"
    }
   ],
   "source": [
    "movies.poster_path.count()"
   ]
  }
 ],
 "metadata": {
  "kernelspec": {
   "display_name": "Python 3",
   "language": "python",
   "name": "python3"
  },
  "language_info": {
   "codemirror_mode": {
    "name": "ipython",
    "version": 3
   },
   "file_extension": ".py",
   "mimetype": "text/x-python",
   "name": "python",
   "nbconvert_exporter": "python",
   "pygments_lexer": "ipython3",
   "version": "3.6.6"
  }
 },
 "nbformat": 4,
 "nbformat_minor": 2
}
